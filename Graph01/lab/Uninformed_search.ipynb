{
 "cells": [
  {
   "cell_type": "markdown",
   "metadata": {},
   "source": [
    "### Define Data Structure"
   ]
  },
  {
   "cell_type": "code",
   "execution_count": 1,
   "metadata": {},
   "outputs": [],
   "source": [
    "import matplotlib.pyplot as plt\n",
    "import networkx as nx"
   ]
  },
  {
   "cell_type": "code",
   "execution_count": 7,
   "metadata": {},
   "outputs": [],
   "source": [
    "class Queue:\n",
    "    \"A container with a first-in-first-out (FIFO) queuing policy.\"\n",
    "    def __init__(self):\n",
    "        self.list = []\n",
    "\n",
    "    def push(self,item):\n",
    "        \"Enqueue the 'item' into the queue\"\n",
    "        self.list.insert(0,item)\n",
    "\n",
    "    def pop(self):\n",
    "        \"\"\"\n",
    "          Dequeue the earliest enqueued item still in the queue. This\n",
    "          operation removes the item from the queue.\n",
    "        \"\"\"\n",
    "        return self.list.pop()\n",
    "\n",
    "    def isEmpty(self):\n",
    "        \"Returns true if the queue is empty\"\n",
    "        return len(self.list) == 0"
   ]
  },
  {
   "cell_type": "code",
   "execution_count": 16,
   "metadata": {},
   "outputs": [],
   "source": [
    "def draw_graph(graph):\n",
    "    G = nx.Graph()\n",
    "    options = {\n",
    "        'node_color': 'lime',\n",
    "        'node_size': 600,\n",
    "        'width': 1,\n",
    "    }\n",
    "    \n",
    "    for n in graph.keys():\n",
    "        G.add_node(n)\n",
    "\n",
    "    for i in graph:\n",
    "        nodes = graph[i]\n",
    "        from_node = i;\n",
    "        #print(from_node,':')\n",
    "    \n",
    "        for successor in nodes:\n",
    "            G.add_edge(from_node, successor)\n",
    "            #print(successor)    \n",
    "    nx.draw(G,with_labels=True, **options); "
   ]
  },
  {
   "cell_type": "code",
   "execution_count": 103,
   "metadata": {},
   "outputs": [],
   "source": [
    "graph ={'a':{'b','c','f'},\n",
    "       'b':{'a','d','f'},\n",
    "       'c':{'a','d','e'},\n",
    "       'd':{'b','c','f'},\n",
    "       'e':{'c','f'},\n",
    "       'f':{'a','b','d','e'}}"
   ]
  },
  {
   "cell_type": "code",
   "execution_count": 47,
   "metadata": {},
   "outputs": [
    {
     "data": {
      "image/png": "[encoded data removed]",
      "text/plain": [
       "<Figure size 432x288 with 1 Axes>"
      ]
     },
     "metadata": {},
     "output_type": "display_data"
    }
   ],
   "source": [
    "draw_graph(graph)"
   ]
  },
  {
   "cell_type": "code",
   "execution_count": 8,
   "metadata": {},
   "outputs": [
    {
     "data": {
      "text/plain": [
       "{'a': {'b', 'c', 'f'},\n",
       " 'b': {'a', 'd', 'f'},\n",
       " 'c': {'a', 'd', 'e'},\n",
       " 'd': {'b', 'c', 'f'},\n",
       " 'e': {'c', 'f'},\n",
       " 'f': {'a', 'b', 'd', 'e'}}"
      ]
     },
     "execution_count": 8,
     "metadata": {},
     "output_type": "execute_result"
    }
   ],
   "source": [
    "graph"
   ]
  },
  {
   "cell_type": "code",
   "execution_count": 9,
   "metadata": {},
   "outputs": [
    {
     "data": {
      "text/plain": [
       "dict"
      ]
     },
     "execution_count": 9,
     "metadata": {},
     "output_type": "execute_result"
    }
   ],
   "source": [
    "type(graph)"
   ]
  },
  {
   "cell_type": "code",
   "execution_count": 10,
   "metadata": {},
   "outputs": [
    {
     "data": {
      "text/plain": [
       "{'b', 'c', 'f'}"
      ]
     },
     "execution_count": 10,
     "metadata": {},
     "output_type": "execute_result"
    }
   ],
   "source": [
    "graph['a']"
   ]
  },
  {
   "cell_type": "code",
   "execution_count": 11,
   "metadata": {},
   "outputs": [
    {
     "data": {
      "text/plain": [
       "set"
      ]
     },
     "execution_count": 11,
     "metadata": {},
     "output_type": "execute_result"
    }
   ],
   "source": [
    "type(graph['a'])"
   ]
  },
  {
   "cell_type": "code",
   "execution_count": 12,
   "metadata": {},
   "outputs": [
    {
     "data": {
      "text/plain": [
       "{'b', 'c', 'f'}"
      ]
     },
     "execution_count": 12,
     "metadata": {},
     "output_type": "execute_result"
    }
   ],
   "source": [
    "a_set = graph['a']\n",
    "a_set"
   ]
  },
  {
   "cell_type": "markdown",
   "metadata": {},
   "source": [
    "### Example 1"
   ]
  },
  {
   "cell_type": "code",
   "execution_count": 21,
   "metadata": {},
   "outputs": [
    {
     "name": "stdout",
     "output_type": "stream",
     "text": [
      "a set()\n",
      "f {'a'}\n",
      "b {'f', 'a'}\n",
      "c {'f', 'b', 'a'}\n",
      "d {'f', 'b', 'a', 'c'}\n",
      "b {'d', 'c', 'a', 'f', 'b'}\n",
      "a {'d', 'c', 'a', 'f', 'b'}\n",
      "Goal state found at e\n"
     ]
    }
   ],
   "source": [
    "bfs=Queue()\n",
    "start = 'a'\n",
    "goal_state = 'e'\n",
    "visit = set()\n",
    "#open new node\n",
    "bfs.push(start)\n",
    "while not bfs.isEmpty():    \n",
    "    current_node = bfs.pop()    \n",
    "    if current_node == goal_state:\n",
    "        print('Goal state found at', current_node)\n",
    "        break\n",
    "    #get successor\n",
    "    print(current_node,visit)\n",
    "    if current_node not in visit:\n",
    "        new_node = graph[current_node]\n",
    "        #print(new_node)    \n",
    "        if len(new_node)>0:\n",
    "            for newNode in new_node:\n",
    "            #print(newNode)\n",
    "                bfs.push(newNode)\n",
    "        visit.add(current_node)"
   ]
  },
  {
   "cell_type": "code",
   "execution_count": 104,
   "metadata": {},
   "outputs": [
    {
     "name": "stdout",
     "output_type": "stream",
     "text": [
      "<class 'dict'>\n",
      "current node :  a  new node :  {'f', 'b', 'c'}  queue :  []  visit :  set()\n",
      "current node :  f  new node :  {'d', 'b', 'a', 'e'}  queue :  ['c', 'b']  visit :  {'a'}\n",
      "current node :  b  new node :  {'f', 'd', 'a'}  queue :  ['e', 'b', 'd', 'c']  visit :  {'f', 'a'}\n",
      "current node :  c  new node :  {'d', 'a', 'e'}  queue :  ['d', 'e', 'b', 'd']  visit :  {'f', 'b', 'a'}\n",
      "Goal state found at d\n",
      "['d', 'c', 'a']\n"
     ]
    }
   ],
   "source": [
    "#BFS\n",
    "bfsq=list()\n",
    "start = 'a'\n",
    "goal_state = 'd'\n",
    "visit = set()\n",
    "#open new node\n",
    "bfsq.insert(0,start)\n",
    "\n",
    "parent = {}\n",
    "print(type(parent))\n",
    "\n",
    "while len(bfsq)>0:    \n",
    "    current_node = bfsq.pop()   \n",
    "    if current_node == goal_state:\n",
    "        print('Goal state found at', current_node)\n",
    "        #print(backtrace(parent, start, goal_state))\n",
    "        \n",
    "        path = []\n",
    "        current = goal_state\n",
    "        path.append(goal_state)\n",
    "        while path[-1] != start:\n",
    "            current = parent[current]\n",
    "            path.append(current)\n",
    "        \n",
    "        print(path)\n",
    "        break\n",
    "    #get successor\n",
    "    #print(current_node)\n",
    "    if current_node not in visit:\n",
    "        new_node = graph[current_node]\n",
    "        #print(new_node)\n",
    "    \n",
    "        \n",
    "        print('current node : ',current_node,\n",
    "              ' new node : ',new_node,\n",
    "              ' queue : ',bfsq,\n",
    "              ' visit : ',visit)\n",
    "        \n",
    "        \n",
    "        if len(new_node)>0:\n",
    "            for newNode in new_node: \n",
    "                if newNode not in visit:\n",
    "                    bfsq.insert(0,newNode)\n",
    "                    parent[newNode] = current_node\n",
    "                    #print(parent,':')\n",
    "                    #print(current_node)\n",
    "                    \n",
    "        visit.add(current_node)"
   ]
  },
  {
   "cell_type": "code",
   "execution_count": 61,
   "metadata": {},
   "outputs": [
    {
     "data": {
      "text/plain": [
       "{'f': 'a', 'b': 'f', 'c': 'a', 'd': 'c', 'e': 'c'}"
      ]
     },
     "execution_count": 61,
     "metadata": {},
     "output_type": "execute_result"
    }
   ],
   "source": [
    "parent"
   ]
  },
  {
   "cell_type": "code",
   "execution_count": 93,
   "metadata": {},
   "outputs": [
    {
     "name": "stdout",
     "output_type": "stream",
     "text": [
      "['e', 'c', 'a']\n"
     ]
    }
   ],
   "source": [
    "goal = goal_state\n",
    "path = []\n",
    "current = goal\n",
    "path.append(goal)\n",
    "\n",
    "#print(parent[current])\n",
    "\n",
    "\n",
    "while path[-1] != start:\n",
    "        current = parent[current]\n",
    "        #print(current)\n",
    "        path.append(current)\n",
    "        \n",
    "\n",
    "\n",
    "print(path)\n"
   ]
  },
  {
   "cell_type": "code",
   "execution_count": 88,
   "metadata": {},
   "outputs": [
    {
     "data": {
      "text/plain": [
       "True"
      ]
     },
     "execution_count": 88,
     "metadata": {},
     "output_type": "execute_result"
    }
   ],
   "source": [
    "parent[current]!= start"
   ]
  },
  {
   "cell_type": "code",
   "execution_count": 29,
   "metadata": {},
   "outputs": [
    {
     "data": {
      "text/plain": [
       "list"
      ]
     },
     "execution_count": 29,
     "metadata": {},
     "output_type": "execute_result"
    }
   ],
   "source": [
    "node = ['a','b','c']\n",
    "type(node)"
   ]
  },
  {
   "cell_type": "code",
   "execution_count": null,
   "metadata": {},
   "outputs": [],
   "source": []
  },
  {
   "cell_type": "code",
   "execution_count": 43,
   "metadata": {},
   "outputs": [
    {
     "name": "stdout",
     "output_type": "stream",
     "text": [
      "['1', '4', '7', '11']\n"
     ]
    }
   ],
   "source": [
    "graph = {\n",
    "        '1': ['2', '3', '4'],\n",
    "        '2': ['5', '6'],\n",
    "        '5': ['9', '10'],\n",
    "        '4': ['7', '8'],\n",
    "        '7': ['11', '12']\n",
    "        }\n",
    "\n",
    "def backtrace(parent, start, end):\n",
    "    path = [end]\n",
    "    while path[-1] != start:\n",
    "        path.append(parent[path[-1]])\n",
    "    path.reverse()\n",
    "    return path\n",
    "\n",
    "\n",
    "def bfs(graph, start, end):\n",
    "    parent = {}\n",
    "    queue = []\n",
    "    queue.append(start)\n",
    "    while queue:\n",
    "        node = queue.pop(0)\n",
    "        if node == end:\n",
    "            return backtrace(parent, start, end)\n",
    "        for adjacent in graph.get(node, []):\n",
    "            if node not in queue :\n",
    "                parent[adjacent] = node # <<<<< record its parent \n",
    "                queue.append(adjacent)\n",
    "\n",
    "print(bfs(graph, '1', '11'))"
   ]
  },
  {
   "cell_type": "code",
   "execution_count": 44,
   "metadata": {},
   "outputs": [
    {
     "data": {
      "image/png": "[encoded data removed]",
      "text/plain": [
       "<Figure size 432x288 with 1 Axes>"
      ]
     },
     "metadata": {},
     "output_type": "display_data"
    }
   ],
   "source": [
    "draw_graph(graph)"
   ]
  },
  {
   "cell_type": "code",
   "execution_count": null,
   "metadata": {},
   "outputs": [],
   "source": []
  }
 ],
 "metadata": {
  "kernelspec": {
   "display_name": "Python 3",
   "language": "python",
   "name": "python3"
  },
  "language_info": {
   "codemirror_mode": {
    "name": "ipython",
    "version": 3
   },
   "file_extension": ".py",
   "mimetype": "text/x-python",
   "name": "python",
   "nbconvert_exporter": "python",
   "pygments_lexer": "ipython3",
   "version": "3.6.5"
  }
 },
 "nbformat": 4,
 "nbformat_minor": 2
}
