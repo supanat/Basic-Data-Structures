{
 "cells": [
  {
   "cell_type": "markdown",
   "metadata": {},
   "source": [
    "### Homewok#01\n",
    "## Uinformed Search"
   ]
  },
  {
   "cell_type": "markdown",
   "metadata": {},
   "source": [
    "Supanat Jintawatsakoon 60199130181 <br>\n",
    "Ekkapob Poonsawat 60199130182"
   ]
  },
  {
   "cell_type": "code",
   "execution_count": 1,
   "metadata": {},
   "outputs": [],
   "source": [
    "import matplotlib.pyplot as plt\n",
    "import networkx as nx\n",
    "from networkx.drawing.nx_agraph import write_dot, graphviz_layout"
   ]
  },
  {
   "cell_type": "code",
   "execution_count": 2,
   "metadata": {},
   "outputs": [],
   "source": [
    "graph ={'a':{'b','c','f'},\n",
    "       'b':{'a','d','f'},\n",
    "       'c':{'a','d','e'},\n",
    "       'd':{'b','c','f'},\n",
    "       'e':{'c','f'},\n",
    "       'f':{'a','b','d','e'}}"
   ]
  },
  {
   "cell_type": "code",
   "execution_count": 3,
   "metadata": {},
   "outputs": [],
   "source": [
    "def draw_graph(graph):\n",
    "    G = nx.Graph()\n",
    "    options = {\n",
    "        'node_color': 'lime',\n",
    "        'node_size': 600,\n",
    "        'width': 1,\n",
    "    }\n",
    "    \n",
    "    for n in graph.keys():\n",
    "        G.add_node(n)\n",
    "\n",
    "    for i in graph:\n",
    "        nodes = graph[i]\n",
    "        from_node = i;\n",
    "        #print(from_node,':')\n",
    "    \n",
    "        for successor in nodes:\n",
    "            G.add_edge(from_node, successor)\n",
    "            #print(successor)    \n",
    "    nx.draw(G,with_labels=True, **options); "
   ]
  },
  {
   "cell_type": "code",
   "execution_count": 4,
   "metadata": {},
   "outputs": [
    {
     "data": {
      "image/png": "[encoded data removed]",
      "text/plain": [
       "<Figure size 432x288 with 1 Axes>"
      ]
     },
     "metadata": {},
     "output_type": "display_data"
    }
   ],
   "source": [
    "draw_graph(graph)"
   ]
  },
  {
   "cell_type": "code",
   "execution_count": 9,
   "metadata": {},
   "outputs": [
    {
     "name": "stdout",
     "output_type": "stream",
     "text": [
      "['e', 'c', 'a']\n"
     ]
    }
   ],
   "source": [
    "#BFS with queue as a list\n",
    "graph ={'a':['b','c','f'],\n",
    "       'b':['a','d','f'],\n",
    "       'c':['a','d','e'],\n",
    "       'd':['b','c','f'],\n",
    "       'e':['c','f'],\n",
    "       'f':['a','b','d','e']}\n",
    "bfsq=list()\n",
    "start = 'e'\n",
    "goal_state = 'a'\n",
    "visit = set()\n",
    "\n",
    "parent = {}\n",
    "\n",
    "\n",
    "#open new node\n",
    "bfsq.append(start)\n",
    "\n",
    "while len(bfsq)>0:    \n",
    "    current_node = bfsq.pop(0)    \n",
    "    if current_node == goal_state:\n",
    "        #print('Goal state found at', current_node)\n",
    "        path=[]\n",
    "        current = goal_state\n",
    "        path.append(goal_state)\n",
    "\n",
    "        #print(parent[current])\n",
    "\n",
    "\n",
    "        while path[-1] != start:\n",
    "          current = parent[current]\n",
    "          #print(current)\n",
    "          path.append(current)\n",
    "        \n",
    "        path.reverse()\n",
    "\n",
    "        print(path)\n",
    "\n",
    "        break\n",
    "    #get successor\n",
    "    #print(current_node)\n",
    "    if current_node not in visit:\n",
    "        new_node = graph[current_node]\n",
    "        #print(current_node,new_node,bfsq,visit)    \n",
    "        if len(new_node)>0:\n",
    "            for newNode in new_node: \n",
    "              if newNode not in bfsq and newNode not in visit:\n",
    "                bfsq.append(newNode)\n",
    "                parent[newNode] = current_node\n",
    "\n",
    "\n",
    "                \n",
    "        visit.add(current_node)\n",
    "               "
   ]
  },
  {
   "cell_type": "code",
   "execution_count": 10,
   "metadata": {},
   "outputs": [
    {
     "data": {
      "text/plain": [
       "{'c': 'e', 'f': 'e', 'a': 'c', 'd': 'c', 'b': 'f'}"
      ]
     },
     "execution_count": 10,
     "metadata": {},
     "output_type": "execute_result"
    }
   ],
   "source": [
    "parent"
   ]
  },
  {
   "cell_type": "code",
   "execution_count": 11,
   "metadata": {},
   "outputs": [],
   "source": [
    "def draw_tree(graph):\n",
    "    G = nx.DiGraph()\n",
    "\n",
    "\n",
    "    options = {\n",
    "        'node_color': 'lime',\n",
    "        'node_size': 600,\n",
    "        'width': 1,\n",
    "    }\n",
    "    \n",
    "    for n in graph.keys():\n",
    "        G.add_node(n)\n",
    "\n",
    "    for i in graph:\n",
    "        nodes = graph[i]\n",
    "        parent = i;\n",
    "        #print(from_node,':')\n",
    "    \n",
    "        for successor in nodes:\n",
    "            G.add_edge(successor, parent)\n",
    "            #print(successor)    \n",
    "    pos =graphviz_layout(G, prog='dot')\n",
    "    nx.draw(G,pos,with_labels=True, **options); "
   ]
  },
  {
   "cell_type": "code",
   "execution_count": 12,
   "metadata": {},
   "outputs": [
    {
     "data": {
      "image/png": "[encoded data removed]",
      "text/plain": [
       "<Figure size 432x288 with 1 Axes>"
      ]
     },
     "metadata": {},
     "output_type": "display_data"
    }
   ],
   "source": [
    "draw_tree(parent)"
   ]
  },
  {
   "cell_type": "markdown",
   "metadata": {},
   "source": [
    "<B>How to install graphviz <B><br>\n",
    "brew install pkg-config <br>\n",
    "brew install graphviz <br>\n",
    "sudo pip install pygraphviz\n"
   ]
  },
  {
   "cell_type": "code",
   "execution_count": null,
   "metadata": {},
   "outputs": [],
   "source": []
  }
 ],
 "metadata": {
  "kernelspec": {
   "display_name": "Python 3",
   "language": "python",
   "name": "python3"
  },
  "language_info": {
   "codemirror_mode": {
    "name": "ipython",
    "version": 3
   },
   "file_extension": ".py",
   "mimetype": "text/x-python",
   "name": "python",
   "nbconvert_exporter": "python",
   "pygments_lexer": "ipython3",
   "version": "3.6.5"
  }
 },
 "nbformat": 4,
 "nbformat_minor": 2
}
