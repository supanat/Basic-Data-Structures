{
 "cells": [
  {
   "cell_type": "code",
   "execution_count": 2,
   "metadata": {},
   "outputs": [
    {
     "name": "stdout",
     "output_type": "stream",
     "text": [
      "['1', '4', '7', '11']\n"
     ]
    }
   ],
   "source": [
    "# graph is in adjacent list representation\n",
    "graph = {\n",
    "        '1': ['2', '3', '4'],\n",
    "        '2': ['5', '6'],\n",
    "        '5': ['9', '10'],\n",
    "        '4': ['7', '8'],\n",
    "        '7': ['11', '12']\n",
    "        }\n",
    "\n",
    "def bfs(graph, start, end):\n",
    "    # maintain a queue of paths\n",
    "    queue = []\n",
    "    # push the first path into the queue\n",
    "    queue.append([start])\n",
    "    while queue:\n",
    "        # get the first path from the queue\n",
    "        path = queue.pop(0)\n",
    "        # get the last node from the path\n",
    "        node = path[-1]\n",
    "        # path found\n",
    "        if node == end:\n",
    "            return path\n",
    "        # enumerate all adjacent nodes, construct a new path and push it into the queue\n",
    "        for adjacent in graph.get(node, []):\n",
    "            new_path = list(path)\n",
    "            new_path.append(adjacent)\n",
    "            queue.append(new_path)\n",
    "\n",
    "print(bfs(graph, '1', '11'))"
   ]
  },
  {
   "cell_type": "code",
   "execution_count": 24,
   "metadata": {},
   "outputs": [
    {
     "name": "stdout",
     "output_type": "stream",
     "text": [
      "a ['b', 'c', 'f'] [] set()\n",
      "b ['a', 'd', 'f'] ['c', 'f'] {'a'}\n",
      "c ['a', 'd', 'e'] ['f', 'd'] {'b', 'a'}\n",
      "f ['a', 'b', 'd', 'e'] ['d', 'e'] {'b', 'c', 'a'}\n",
      "d ['b', 'c', 'f'] ['e'] {'b', 'f', 'c', 'a'}\n",
      "Goal state found at e\n"
     ]
    }
   ],
   "source": [
    "#BFS with queue as a list\n",
    "graph ={'a':['b','c','f'],\n",
    "       'b':['a','d','f'],\n",
    "       'c':['a','d','e'],\n",
    "       'd':['b','c','f'],\n",
    "       'e':['c','f'],\n",
    "       'f':['a','b','d','e']}\n",
    "bfsq=list()\n",
    "start = 'a'\n",
    "goal_state = 'e'\n",
    "visit = set()\n",
    "\n",
    "parent = {}\n",
    "\n",
    "\n",
    "#open new node\n",
    "bfsq.append(start)\n",
    "\n",
    "while len(bfsq)>0:    \n",
    "    current_node = bfsq.pop(0)    \n",
    "    if current_node == goal_state:\n",
    "        print('Goal state found at', current_node)\n",
    "\n",
    "\n",
    "        break\n",
    "    #get successor\n",
    "    #print(current_node)\n",
    "    if current_node not in visit:\n",
    "        new_node = graph[current_node]\n",
    "        print(current_node,new_node,bfsq,visit)    \n",
    "        if len(new_node)>0:\n",
    "            for newNode in new_node: \n",
    "              if newNode not in bfsq and newNode not in visit:\n",
    "                bfsq.append(newNode)\n",
    "                parent[newNode] = current_node\n",
    "\n",
    "\n",
    "                \n",
    "        visit.add(current_node)\n",
    "        \n",
    "        \n",
    "        "
   ]
  },
  {
   "cell_type": "code",
   "execution_count": 16,
   "metadata": {},
   "outputs": [],
   "source": [
    "def backtrace(parent, start, end):\n",
    "    path = [end]\n",
    "    while path[-1] != start:\n",
    "        path.append(parent[path[-1]])\n",
    "    path.reverse()\n",
    "    return path"
   ]
  },
  {
   "cell_type": "code",
   "execution_count": 25,
   "metadata": {},
   "outputs": [
    {
     "data": {
      "text/plain": [
       "{'b': 'a', 'c': 'a', 'f': 'a', 'd': 'b', 'e': 'c'}"
      ]
     },
     "execution_count": 25,
     "metadata": {},
     "output_type": "execute_result"
    }
   ],
   "source": [
    "parent"
   ]
  },
  {
   "cell_type": "code",
   "execution_count": 26,
   "metadata": {},
   "outputs": [
    {
     "data": {
      "text/plain": [
       "'a'"
      ]
     },
     "execution_count": 26,
     "metadata": {},
     "output_type": "execute_result"
    }
   ],
   "source": [
    "parent['c']"
   ]
  },
  {
   "cell_type": "code",
   "execution_count": 27,
   "metadata": {},
   "outputs": [
    {
     "name": "stdout",
     "output_type": "stream",
     "text": [
      "['e', 'c', 'a']\n"
     ]
    }
   ],
   "source": [
    "goal = goal_state\n",
    "path = []\n",
    "current = goal\n",
    "path.append(goal)\n",
    "\n",
    "#print(parent[current])\n",
    "\n",
    "\n",
    "while path[-1] != start:\n",
    "        current = parent[current]\n",
    "        #print(current)\n",
    "        path.append(current)\n",
    "        \n",
    "\n",
    "\n",
    "print(path)\n"
   ]
  },
  {
   "cell_type": "code",
   "execution_count": null,
   "metadata": {},
   "outputs": [],
   "source": []
  }
 ],
 "metadata": {
  "kernelspec": {
   "display_name": "Python 3",
   "language": "python",
   "name": "python3"
  },
  "language_info": {
   "codemirror_mode": {
    "name": "ipython",
    "version": 3
   },
   "file_extension": ".py",
   "mimetype": "text/x-python",
   "name": "python",
   "nbconvert_exporter": "python",
   "pygments_lexer": "ipython3",
   "version": "3.6.5"
  }
 },
 "nbformat": 4,
 "nbformat_minor": 2
}
