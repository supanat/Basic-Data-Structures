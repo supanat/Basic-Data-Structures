{
 "cells": [
  {
   "cell_type": "markdown",
   "metadata": {},
   "source": [
    "### Homewok#01\n",
    "## Uinformed Search"
   ]
  },
  {
   "cell_type": "markdown",
   "metadata": {},
   "source": [
    "Supanat Jintawatsakoon 60199130181 <br>\n",
    "Ekkapob Poonsawat 60199130182"
   ]
  },
  {
   "cell_type": "code",
   "execution_count": 1,
   "metadata": {},
   "outputs": [],
   "source": [
    "import matplotlib.pyplot as plt\n",
    "import networkx as nx\n",
    "from networkx.drawing.nx_agraph import write_dot, graphviz_layout"
   ]
  },
  {
   "cell_type": "code",
   "execution_count": 14,
   "metadata": {},
   "outputs": [],
   "source": [
    "graph ={'a':{'b','e'},\n",
    "       'b':{'a','c','d','h'},\n",
    "       'c':{'b','h'},\n",
    "       'd':{'b','g','h'},\n",
    "       'e':{'a','f'},\n",
    "       'f':{'e'},\n",
    "       'g':{'d'},\n",
    "       'h':{'c','d'}}"
   ]
  },
  {
   "cell_type": "code",
   "execution_count": 13,
   "metadata": {},
   "outputs": [
    {
     "data": {
      "text/plain": [
       "{'a', 'c', 'd', 'h'}"
      ]
     },
     "execution_count": 13,
     "metadata": {},
     "output_type": "execute_result"
    }
   ],
   "source": [
    "c = 'b'\n",
    "graph[c]"
   ]
  },
  {
   "cell_type": "code",
   "execution_count": 3,
   "metadata": {},
   "outputs": [],
   "source": [
    "def draw_graph(graph,digraph=False):\n",
    "    if digraph:\n",
    "        G = nx.DiGraph()\n",
    "    else:\n",
    "        G = nx.Graph()\n",
    "        \n",
    "    options = {\n",
    "        'node_color': 'lime',\n",
    "        'node_size': 600,\n",
    "        'width': 1,\n",
    "    }\n",
    "    \n",
    "    for n in graph.keys():\n",
    "        G.add_node(n)\n",
    "\n",
    "    for i in graph:\n",
    "        nodes = graph[i]\n",
    "        from_node = i;\n",
    "        #print(from_node,':')\n",
    "    \n",
    "        for successor in nodes:\n",
    "            G.add_edge(from_node, successor)\n",
    "            #print(successor)    \n",
    "    nx.draw(G,with_labels=True, **options); "
   ]
  },
  {
   "cell_type": "code",
   "execution_count": 4,
   "metadata": {},
   "outputs": [
    {
     "data": {
      "image/png": "[encoded data removed]",
      "text/plain": [
       "<Figure size 432x288 with 1 Axes>"
      ]
     },
     "metadata": {},
     "output_type": "display_data"
    }
   ],
   "source": [
    "draw_graph(graph)"
   ]
  },
  {
   "cell_type": "code",
   "execution_count": 11,
   "metadata": {},
   "outputs": [
    {
     "name": "stdout",
     "output_type": "stream",
     "text": [
      "{'b', 'e'}\n",
      "{'c', 'h', 'a', 'd'}\n",
      "{'f', 'a'}\n",
      "{'b', 'h'}\n",
      "{'c', 'd'}\n",
      "{'g', 'b', 'h'}\n",
      "{'e'}\n",
      "['a', 'b', 'd', 'g']\n",
      "g Q :  []  Visit :  ['a', 'b', 'e', 'c', 'h', 'd', 'f']\n"
     ]
    }
   ],
   "source": [
    "#BFS with queue as a list\n",
    "bfsq=list()\n",
    "start = 'a'\n",
    "goal_state = 'g'\n",
    "visit = []\n",
    "\n",
    "parent = {}\n",
    "\n",
    "\n",
    "#open new node\n",
    "bfsq.append(start)\n",
    "\n",
    "while len(bfsq)>0:    \n",
    "    current_node = bfsq.pop(0) \n",
    "    #current_node = bfsq.pop()    \n",
    "    if current_node == goal_state:\n",
    "        #print('Goal state found at', current_node)\n",
    "        path=[]\n",
    "        current = goal_state\n",
    "        path.append(goal_state)\n",
    "\n",
    "        #print(parent[current])\n",
    "\n",
    "\n",
    "        while path[-1] != start:\n",
    "          current = parent[current]\n",
    "          #print(current)\n",
    "          path.append(current)\n",
    "        \n",
    "        path.reverse()\n",
    "        print(path)\n",
    "        print(current_node, 'Q : ',bfsq,' Visit : ',visit)\n",
    "\n",
    "        break\n",
    "    #get successor\n",
    "    #print(current_node)\n",
    "    if current_node not in visit:\n",
    "        new_node = graph[current_node]\n",
    "        print(new_node)    \n",
    "        if len(new_node)>0:\n",
    "            for newNode in new_node: \n",
    "              if newNode not in bfsq and newNode not in visit:\n",
    "                #if newNode not in visit:\n",
    "\n",
    "\n",
    "                bfsq.append(newNode)\n",
    "                #bfsq.insert(0,newNode)\n",
    "                parent[newNode] = current_node\n",
    "\n",
    "       \n",
    "        visit.append(current_node)\n",
    "        #print(current_node,' new: ',new_node,' Q: ',bfsq,' Visit : ',visit)\n",
    "\n",
    "               "
   ]
  },
  {
   "cell_type": "code",
   "execution_count": 6,
   "metadata": {},
   "outputs": [
    {
     "data": {
      "text/plain": [
       "{'e': 'a', 'b': 'a', 'f': 'e', 'd': 'b', 'c': 'b', 'h': 'b', 'g': 'd'}"
      ]
     },
     "execution_count": 6,
     "metadata": {},
     "output_type": "execute_result"
    }
   ],
   "source": [
    "parent"
   ]
  },
  {
   "cell_type": "code",
   "execution_count": 24,
   "metadata": {},
   "outputs": [],
   "source": [
    "def draw_tree(graph):\n",
    "    G = nx.DiGraph()\n",
    "\n",
    "\n",
    "    options = {\n",
    "        'node_color': 'lime',\n",
    "        'node_size': 600,\n",
    "        'width': 1,\n",
    "    }\n",
    "    \n",
    "    for n in graph.keys():\n",
    "        G.add_node(n)\n",
    "\n",
    "    for i in graph:\n",
    "        nodes = graph[i]\n",
    "        parent = i;\n",
    "        #print(from_node,':')\n",
    "    \n",
    "        for successor in nodes:\n",
    "            G.add_edge(successor, parent)\n",
    "            #print(successor)    \n",
    "    pos =graphviz_layout(G, prog='dot')\n",
    "    nx.draw(G,pos,with_labels=True, **options); "
   ]
  },
  {
   "cell_type": "code",
   "execution_count": 8,
   "metadata": {},
   "outputs": [
    {
     "data": {
      "image/png": "[encoded data removed]",
      "text/plain": [
       "<Figure size 432x288 with 1 Axes>"
      ]
     },
     "metadata": {},
     "output_type": "display_data"
    }
   ],
   "source": [
    "draw_tree(parent)"
   ]
  },
  {
   "cell_type": "markdown",
   "metadata": {},
   "source": [
    "Q2"
   ]
  },
  {
   "cell_type": "code",
   "execution_count": 12,
   "metadata": {},
   "outputs": [
    {
     "name": "stdout",
     "output_type": "stream",
     "text": [
      "a\n",
      "a [(1, 'e', ['a']), (3, 'b', ['a'])] ['a']\n",
      "e\n",
      "e [(2, 'a', ['a', 'e']), (3, 'b', ['a']), (7, 'f', ['a', 'e'])] ['a', 'e']\n",
      "a\n",
      "b\n",
      "b [(5, 'd', ['a', 'b']), (6, 'a', ['a', 'b']), (8, 'h', ['a', 'b']), (7, 'f', ['a', 'e']), (7, 'c', ['a', 'b'])] ['a', 'e', 'b']\n",
      "d\n",
      "d [(6, 'a', ['a', 'b']), (7, 'c', ['a', 'b']), (7, 'b', ['a', 'b', 'd']), (7, 'f', ['a', 'e']), (14, 'g', ['a', 'b', 'd']), (8, 'h', ['a', 'b']), (7, 'h', ['a', 'b', 'd'])] ['a', 'e', 'b', 'd']\n",
      "a\n",
      "b\n",
      "c\n",
      "c [(7, 'f', ['a', 'e']), (8, 'h', ['a', 'b']), (7, 'h', ['a', 'b', 'd']), (14, 'g', ['a', 'b', 'd']), (10, 'h', ['a', 'b', 'c']), (11, 'b', ['a', 'b', 'c'])] ['a', 'e', 'b', 'd', 'c']\n",
      "f\n",
      "f [(7, 'h', ['a', 'b', 'd']), (8, 'h', ['a', 'b']), (11, 'b', ['a', 'b', 'c']), (14, 'g', ['a', 'b', 'd']), (10, 'h', ['a', 'b', 'c']), (13, 'e', ['a', 'e', 'f'])] ['a', 'e', 'b', 'd', 'c', 'f']\n",
      "h\n",
      "h [(8, 'h', ['a', 'b']), (10, 'h', ['a', 'b', 'c']), (9, 'd', ['a', 'b', 'd', 'h']), (14, 'g', ['a', 'b', 'd']), (13, 'e', ['a', 'e', 'f']), (11, 'b', ['a', 'b', 'c']), (10, 'c', ['a', 'b', 'd', 'h'])] ['a', 'e', 'b', 'd', 'c', 'f', 'h']\n",
      "h\n",
      "d\n",
      "c\n",
      "h\n",
      "b\n",
      "e\n",
      "g\n",
      "Goal state found at g with path: ['a', 'b', 'd', 'g'] 14\n"
     ]
    }
   ],
   "source": [
    "'''\n",
    "graph ={'a':{('b',7),('c',3),('f',4)},\n",
    "       'b':{('a',7),('d',5),('f',9)},\n",
    "       'c':{('a',3),('d',6),('e',4)},\n",
    "       'd':{('b',5),('c',6),('f',7)},\n",
    "       'e':{('c',4),('f',1)},\n",
    "       'f':{('a',4),('b',9),('d',7),('e',1)}}\n",
    "'''\n",
    "graph ={'a':{('b',3),('e',1)},\n",
    "       'b':{('a',3),('c',4),('d',2),('h',5)},\n",
    "       'c':{('b',4),('h',3)},\n",
    "       'd':{('b',2),('g',9),('h',2)},\n",
    "       'e':{('a',1),('f',6)},\n",
    "       'f':{('e',6)},\n",
    "       'g':{('d',9)},\n",
    "       'h':{('c',3),('d',2)}}\n",
    "\n",
    "\n",
    "import heapq\n",
    "parent = {}\n",
    "ucsq=[]\n",
    "#ucsq keeps [(cost,next node,[path])]\n",
    "start ='a'\n",
    "goal_state = 'g'\n",
    "visit=[]\n",
    "cost=0\n",
    "path=[]\n",
    "next_node=start\n",
    "heapq.heappush(ucsq,(cost,next_node,path))\n",
    "while len(ucsq)>0:\n",
    "    cost,current_node,path=heapq.heappop(ucsq)\n",
    "    path_new=path+[current_node]\n",
    "    print(current_node)\n",
    "    if current_node == goal_state:\n",
    "        print('Goal state found at', current_node, 'with path:', path_new, cost)\n",
    "        \n",
    "        break\n",
    "    #finding succeeding nodes\n",
    "    next_node=graph[current_node]\n",
    "    if current_node not in visit:        \n",
    "        for nextVertex,costEdge in next_node:\n",
    "            cost_new=cost+int(costEdge)\n",
    "            next_node=nextVertex            \n",
    "            heapq.heappush(ucsq,(cost_new,next_node,path_new))\n",
    "            \n",
    "        visit.append(current_node)\n",
    "        print(current_node,ucsq,visit)\n"
   ]
  },
  {
   "cell_type": "markdown",
   "metadata": {},
   "source": [
    "<B>How to install graphviz <B><br>\n",
    "brew install pkg-config <br>\n",
    "brew install graphviz <br>\n",
    "sudo pip install pygraphviz\n"
   ]
  },
  {
   "cell_type": "markdown",
   "metadata": {},
   "source": [
    "Q3"
   ]
  },
  {
   "cell_type": "code",
   "execution_count": 27,
   "metadata": {},
   "outputs": [
    {
     "name": "stdout",
     "output_type": "stream",
     "text": [
      "b ['a']\n",
      "c ['a', 'b']\n",
      "h ['a', 'b', 'c']\n",
      "d ['a', 'b', 'c', 'h']\n",
      "Goal state found at:  g\n",
      "['a', 'b', 'c', 'h', 'd']\n",
      "g ['a', 'b', 'c', 'h', 'd']\n",
      "e ['a', 'b', 'c', 'h', 'd', 'g']\n",
      "f ['a', 'b', 'c', 'h', 'd', 'g', 'e']\n"
     ]
    }
   ],
   "source": [
    "#DFS with recursive calling\n",
    "import sys\n",
    "\n",
    "graph ={'a':{'b','e'},\n",
    "       'b':{'a','c','d','h'},\n",
    "       'c':{'b','h'},\n",
    "       'd':{'b','g','h'},\n",
    "       'e':{'a','f'},\n",
    "       'f':{'e'},\n",
    "       'g':{'d'},\n",
    "       'h':{'c','d'}}\n",
    "\n",
    "goal = 'g'\n",
    "def dfs(node,graph,visit):\n",
    "    global goal\n",
    "    if node not in visit:\n",
    "        visit.append(node)        \n",
    "        for new_node in graph[node]:            \n",
    "            if new_node == goal:\n",
    "                print('Goal state found at: ',goal)\n",
    "                print(visit) \n",
    "                exit\n",
    "                #sys.exit(0)\n",
    "            if new_node not in visit:\n",
    "                print(new_node,visit)\n",
    "                visit = dfs(new_node,graph,visit)\n",
    "    return visit\n",
    "start = 'a'\n",
    "visit = dfs(start,graph,[])"
   ]
  },
  {
   "cell_type": "code",
   "execution_count": 16,
   "metadata": {},
   "outputs": [],
   "source": [
    "digraph ={'a':{'b','e'},\n",
    "       'b':{'c','d','h'},\n",
    "       'c':{'h'},\n",
    "       'd':{'g','h'},\n",
    "       'e':{},\n",
    "       'f':{'e'},\n",
    "       'g':{},\n",
    "       'h':{}}"
   ]
  },
  {
   "cell_type": "code",
   "execution_count": 21,
   "metadata": {},
   "outputs": [
    {
     "data": {
      "image/png": "[encoded data removed]",
      "text/plain": [
       "<Figure size 432x288 with 1 Axes>"
      ]
     },
     "metadata": {},
     "output_type": "display_data"
    }
   ],
   "source": [
    "draw_graph(digraph,True)"
   ]
  },
  {
   "cell_type": "code",
   "execution_count": 22,
   "metadata": {},
   "outputs": [
    {
     "name": "stdout",
     "output_type": "stream",
     "text": [
      "a  new:  {'b', 'e'}  Q:  ['b', 'e']  Visit :  ['a']\n",
      "b  new:  {'h', 'c', 'd'}  Q:  ['e', 'h', 'c', 'd']  Visit :  ['a', 'b']\n",
      "e  new:  {}  Q:  ['h', 'c', 'd']  Visit :  ['a', 'b', 'e']\n",
      "h  new:  {}  Q:  ['c', 'd']  Visit :  ['a', 'b', 'e', 'h']\n",
      "c  new:  {'h'}  Q:  ['d']  Visit :  ['a', 'b', 'e', 'h', 'c']\n",
      "d  new:  {'g', 'h'}  Q:  ['g']  Visit :  ['a', 'b', 'e', 'h', 'c', 'd']\n",
      "['a', 'b', 'd', 'g']\n",
      "g Q :  []  Visit :  ['a', 'b', 'e', 'h', 'c', 'd']\n"
     ]
    }
   ],
   "source": [
    "#BFS with queue as a list\n",
    "bfsq=list()\n",
    "start = 'a'\n",
    "goal_state = 'g'\n",
    "visit = []\n",
    "\n",
    "parent = {}\n",
    "\n",
    "\n",
    "#open new node\n",
    "bfsq.append(start)\n",
    "\n",
    "while len(bfsq)>0:    \n",
    "    current_node = bfsq.pop(0) \n",
    "    #current_node = bfsq.pop()    \n",
    "    if current_node == goal_state:\n",
    "        #print('Goal state found at', current_node)\n",
    "        path=[]\n",
    "        current = goal_state\n",
    "        path.append(goal_state)\n",
    "\n",
    "        #print(parent[current])\n",
    "\n",
    "\n",
    "        while path[-1] != start:\n",
    "          current = parent[current]\n",
    "          #print(current)\n",
    "          path.append(current)\n",
    "        \n",
    "        path.reverse()\n",
    "        print(path)\n",
    "        print(current_node, 'Q : ',bfsq,' Visit : ',visit)\n",
    "\n",
    "        break\n",
    "    #get successor\n",
    "    #print(current_node)\n",
    "    if current_node not in visit:\n",
    "        new_node = digraph[current_node]\n",
    "        #print(current_node,new_node,bfsq,visit)    \n",
    "        if len(new_node)>0:\n",
    "            for newNode in new_node: \n",
    "              if newNode not in bfsq and newNode not in visit:\n",
    "                bfsq.append(newNode)\n",
    "                #bfsq.insert(0,newNode)\n",
    "                parent[newNode] = current_node\n",
    "\n",
    "       \n",
    "        visit.append(current_node)\n",
    "        print(current_node,' new: ',new_node,' Q: ',bfsq,' Visit : ',visit)\n",
    "\n",
    "               "
   ]
  },
  {
   "cell_type": "code",
   "execution_count": 25,
   "metadata": {},
   "outputs": [
    {
     "data": {
      "image/png": "[encoded data removed]",
      "text/plain": [
       "<Figure size 432x288 with 1 Axes>"
      ]
     },
     "metadata": {},
     "output_type": "display_data"
    }
   ],
   "source": [
    "draw_tree(parent)"
   ]
  },
  {
   "cell_type": "code",
   "execution_count": 18,
   "metadata": {},
   "outputs": [
    {
     "name": "stdout",
     "output_type": "stream",
     "text": [
      "a\n",
      "a [(3, 'c', ['a']), (7, 'b', ['a']), (4, 'f', ['a'])] ['a']\n",
      "c\n",
      "c [(4, 'f', ['a']), (6, 'a', ['a', 'c']), (7, 'e', ['a', 'c']), (9, 'd', ['a', 'c']), (7, 'b', ['a'])] ['a', 'c']\n",
      "f\n",
      "f [(5, 'e', ['a', 'f']), (7, 'b', ['a']), (6, 'a', ['a', 'c']), (9, 'd', ['a', 'c']), (13, 'b', ['a', 'f']), (7, 'e', ['a', 'c']), (8, 'a', ['a', 'f']), (11, 'd', ['a', 'f'])] ['a', 'c', 'f']\n",
      "e\n",
      "e [(6, 'a', ['a', 'c']), (6, 'f', ['a', 'f', 'e']), (7, 'e', ['a', 'c']), (7, 'b', ['a']), (13, 'b', ['a', 'f']), (11, 'd', ['a', 'f']), (8, 'a', ['a', 'f']), (9, 'd', ['a', 'c']), (9, 'c', ['a', 'f', 'e'])] ['a', 'c', 'f', 'e']\n",
      "a\n",
      "f\n",
      "b\n",
      "b [(7, 'e', ['a', 'c']), (9, 'c', ['a', 'f', 'e']), (8, 'a', ['a', 'f']), (9, 'd', ['a', 'c']), (13, 'b', ['a', 'f']), (11, 'd', ['a', 'f']), (14, 'a', ['a', 'b']), (12, 'd', ['a', 'b']), (16, 'f', ['a', 'b'])] ['a', 'c', 'f', 'e', 'b']\n",
      "e\n",
      "a\n",
      "c\n",
      "d\n",
      "d [(11, 'd', ['a', 'f']), (12, 'd', ['a', 'b']), (14, 'b', ['a', 'c', 'd']), (14, 'a', ['a', 'b']), (13, 'b', ['a', 'f']), (16, 'f', ['a', 'c', 'd']), (16, 'f', ['a', 'b']), (15, 'c', ['a', 'c', 'd'])] ['a', 'c', 'f', 'e', 'b', 'd']\n",
      "d\n",
      "d\n",
      "b\n",
      "a\n",
      "b\n",
      "c\n",
      "f\n",
      "f\n"
     ]
    }
   ],
   "source": [
    "digraph2 ={'a':{('b',7),('c',3),('f',4)},\n",
    "       'b':{('a',7),('d',5),('f',9)},\n",
    "       'c':{('a',3),('d',6),('e',4)},\n",
    "       'd':{('b',5),('c',6),('f',7)},\n",
    "       'e':{('c',4),('f',1)},\n",
    "       'f':{('a',4),('b',9),('d',7),('e',1)}}\n",
    "\n",
    "\n",
    "import heapq\n",
    "parent = {}\n",
    "ucsq=[]\n",
    "#ucsq keeps [(cost,next node,[path])]\n",
    "start ='a'\n",
    "goal_state = 'g'\n",
    "visit=[]\n",
    "cost=0\n",
    "path=[]\n",
    "\n",
    "next_node=start\n",
    "heapq.heappush(ucsq,(cost,next_node,path))\n",
    "while len(ucsq)>0:\n",
    "    cost,current_node,path=heapq.heappop(ucsq)\n",
    "    path_new=path+[current_node]\n",
    "    print(current_node)\n",
    "    if current_node == goal_state:\n",
    "        print('Goal state found at', current_node, 'with path:', path_new, cost)\n",
    "        \n",
    "        break\n",
    "    #finding succeeding nodes\n",
    "    next_node=digraph2[current_node]\n",
    "    if current_node not in visit:        \n",
    "        for nextVertex,costEdge in next_node:\n",
    "            cost_new=cost+int(costEdge)\n",
    "            next_node=nextVertex            \n",
    "            heapq.heappush(ucsq,(cost_new,next_node,path_new))\n",
    "            \n",
    "        visit.append(current_node)\n",
    "        print(current_node,ucsq,visit)\n",
    "\n"
   ]
  },
  {
   "cell_type": "code",
   "execution_count": null,
   "metadata": {},
   "outputs": [],
   "source": []
  }
 ],
 "metadata": {
  "kernelspec": {
   "display_name": "Python 3",
   "language": "python",
   "name": "python3"
  },
  "language_info": {
   "codemirror_mode": {
    "name": "ipython",
    "version": 3
   },
   "file_extension": ".py",
   "mimetype": "text/x-python",
   "name": "python",
   "nbconvert_exporter": "python",
   "pygments_lexer": "ipython3",
   "version": "3.6.5"
  }
 },
 "nbformat": 4,
 "nbformat_minor": 2
}
